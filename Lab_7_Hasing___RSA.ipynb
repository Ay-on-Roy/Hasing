{
  "cells": [
    {
      "cell_type": "markdown",
      "metadata": {
        "id": "view-in-github",
        "colab_type": "text"
      },
      "source": [
        "<a href=\"https://colab.research.google.com/github/Ay-on-Roy/Hasing/blob/main/Lab_7_Hasing___RSA.ipynb\" target=\"_parent\"><img src=\"https://colab.research.google.com/assets/colab-badge.svg\" alt=\"Open In Colab\"/></a>"
      ]
    },
    {
      "cell_type": "markdown",
      "metadata": {
        "id": "JGfliRpGPNM8"
      },
      "source": [
        "# Hashing"
      ]
    },
    {
      "cell_type": "code",
      "execution_count": null,
      "metadata": {
        "colab": {
          "base_uri": "https://localhost:8080/"
        },
        "id": "YrV9WshMpiyT",
        "outputId": "b33f2b29-2bdd-46a4-b92e-a5e986dd5120"
      },
      "outputs": [
        {
          "name": "stdout",
          "output_type": "stream",
          "text": [
            "64ef07ce3e4b420c334227eecb3b3f4c\n",
            "b584eec728548aced5a66c0267dd520a00871b5e7b735b2d8202f86719f61857\n",
            "1dbb2224e5108b80246acacd67afa3304c023c467a4a5b4d3c3aaf97508ab11208b5635a7d759a7cacac4e688141dedb953030f364ceff54d9b7f34813e2ca20\n",
            "b804ec5a0d83d19d8db908572f51196505d09f98\n"
          ]
        }
      ],
      "source": [
        "import hashlib\n",
        "\n",
        "md5 = hashlib.md5(b'Cryptography')\n",
        "sha256 = hashlib.sha256(b'Cryptography')\n",
        "sha512 = hashlib.sha512(b'Cryptography')\n",
        "sha1 = hashlib.sha1(b'Cryptography')\n",
        "\n",
        "print(md5.hexdigest())\n",
        "print(sha256.hexdigest())\n",
        "print(sha512.hexdigest())\n",
        "print(sha1.hexdigest())"
      ]
    },
    {
      "cell_type": "markdown",
      "metadata": {
        "id": "RLfgCsAGFFh9"
      },
      "source": [
        "# Create MD5 Hash of a file"
      ]
    },
    {
      "cell_type": "code",
      "execution_count": null,
      "metadata": {
        "colab": {
          "base_uri": "https://localhost:8080/"
        },
        "id": "sjes1PbMDmVh",
        "outputId": "963574e4-a3b2-4eb1-fd16-9d7744fa0c08"
      },
      "outputs": [
        {
          "name": "stdout",
          "output_type": "stream",
          "text": [
            "aaa96b80151e59ec5f389c55be30443a\n"
          ]
        }
      ],
      "source": [
        "print(hashlib.md5(\"passlist.txt\".encode('UTF-8')).hexdigest())"
      ]
    },
    {
      "cell_type": "code",
      "execution_count": null,
      "metadata": {
        "colab": {
          "base_uri": "https://localhost:8080/"
        },
        "collapsed": true,
        "id": "X85RHo8HFMu4",
        "outputId": "57366f19-379c-4912-a283-f662fc456c04"
      },
      "outputs": [
        {
          "name": "stdout",
          "output_type": "stream",
          "text": [
            "abf0076950fb6d72ae175f91581c3373\n"
          ]
        }
      ],
      "source": [
        "file_name = '/content/passlist.txt'\n",
        "\n",
        "with open(file_name) as f:\n",
        "    data = f.read()\n",
        "    md5hash = hashlib.md5(data.encode('UTF-8')).hexdigest()\n",
        "print(md5hash)"
      ]
    },
    {
      "cell_type": "markdown",
      "metadata": {
        "id": "YGfX02Z6JghK"
      },
      "source": [
        "# Task 1"
      ]
    },
    {
      "cell_type": "code",
      "execution_count": null,
      "metadata": {
        "id": "QHlz-TqwC-5d"
      },
      "outputs": [],
      "source": [
        "class Admin:\n",
        "\n",
        "  def __init__(self):\n",
        "    self.username = 'admin'\n",
        "    self.password = '8062dc84e0faa9e553192841432d4836208f700d43f3b68a53cc30ad4b7b3464'\n",
        "\n",
        "  def login(self,username,password):\n",
        "    if username == self.username and password == self.password:\n",
        "      return \"Login successful\"\n",
        "    else:\n",
        "      return \"Wrong password. Please try again\""
      ]
    },
    {
      "cell_type": "code",
      "execution_count": null,
      "metadata": {
        "colab": {
          "base_uri": "https://localhost:8080/",
          "height": 35
        },
        "id": "2v0RlwdgvSDV",
        "outputId": "faaa9b53-dfb8-4328-f690-792e41986155"
      },
      "outputs": [
        {
          "data": {
            "application/vnd.google.colaboratory.intrinsic+json": {
              "type": "string"
            },
            "text/plain": [
              "'Login successful'"
            ]
          },
          "execution_count": 8,
          "metadata": {},
          "output_type": "execute_result"
        }
      ],
      "source": [
        "user = Admin()\n",
        "user.login(\"admin\",\"8062dc84e0faa9e553192841432d4836208f700d43f3b68a53cc30ad4b7b3464\")"
      ]
    },
    {
      "cell_type": "markdown",
      "metadata": {
        "id": "yAtkOtlwEfdE"
      },
      "source": [
        "Your task is to find the plaintext password using dictionary attack.\n",
        "Download password list: https://drive.google.com/file/d/1tqoWvRJu1h1uOfsxXiJ6G_ccY6DdsV_9/view?usp=share_link"
      ]
    },
    {
      "cell_type": "code",
      "execution_count": null,
      "metadata": {
        "colab": {
          "base_uri": "https://localhost:8080/"
        },
        "id": "-tQDprrcPUKa",
        "outputId": "d9a044e8-0ffc-4e98-84d7-c93512d4623e"
      },
      "outputs": [
        {
          "name": "stdout",
          "output_type": "stream",
          "text": [
            "B2bFmZZw9W56h2Z\n"
          ]
        }
      ],
      "source": [
        "#Do it here\n",
        "import hashlib\n",
        "\n",
        "password = \"8062dc84e0faa9e553192841432d4836208f700d43f3b68a53cc30ad4b7b3464\"\n",
        "with open(file_name) as f:\n",
        "    data = [line.strip() for line in f]\n",
        "\n",
        "for i in data:\n",
        "    hash = hashlib.sha256(i.encode('UTF-8')).hexdigest()\n",
        "    if hash == password:\n",
        "      print(i)\n",
        "      break\n"
      ]
    },
    {
      "cell_type": "code",
      "execution_count": null,
      "metadata": {
        "colab": {
          "background_save": true
        },
        "id": "JMHVAEKjp3CI",
        "outputId": "157005cd-572b-4fcf-a860-6a6b34f676ab"
      },
      "outputs": [
        {
          "name": "stdout",
          "output_type": "stream",
          "text": [
            "Failed to detect a GPU.\n"
          ]
        }
      ],
      "source": [
        "import tensorflow as tf\n",
        "gpus = tf.config.list_physical_devices(\"GPU\")\n",
        "if gpus:\n",
        "    for gpu in gpus:\n",
        "        print(\"Found a GPU with the name:\", gpu)\n",
        "else:\n",
        "    print(\"Failed to detect a GPU.\")"
      ]
    }
  ],
  "metadata": {
    "colab": {
      "provenance": [],
      "include_colab_link": true
    },
    "kernelspec": {
      "display_name": "Python 3",
      "name": "python3"
    },
    "language_info": {
      "name": "python"
    }
  },
  "nbformat": 4,
  "nbformat_minor": 0
}